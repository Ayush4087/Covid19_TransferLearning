{
 "cells": [
  {
   "cell_type": "code",
   "execution_count": 100,
   "metadata": {},
   "outputs": [],
   "source": [
    "# from keras.layers import Input, Lambda, Dense, Flatten , GlobalAveragePooling2D , Dropout\n",
    "\n",
    "# from keras.applications.vgg16 import VGG16\n",
    "# from keras.applications.vgg16 import preprocess_input\n",
    "# from keras.preprocessing import image\n",
    "# from keras.preprocessing.image import ImageDataGenerator\n",
    "# from keras.models import Sequential\n",
    "# import numpy as np\n",
    "# from glob import glob\n",
    "# import matplotlib.pyplot as plt\n",
    "# import pandas as pd\n",
    "# from tensorflow.keras.callbacks import TensorBoard\n",
    "# import time\n",
    "# from datetime import datetime\n",
    "from keras.preprocessing.image import load_img\n",
    "from keras.preprocessing.image import img_to_array\n",
    "from keras.applications.vgg16 import preprocess_input\n",
    "from keras.applications.vgg16 import decode_predictions\n",
    "from keras.applications.vgg16 import VGG16\n",
    "from keras.models import Model,load_model\n",
    "import os\n",
    "import numpy as np\n",
    "from sklearn.metrics import confusion_matrix \n",
    "from sklearn.metrics import accuracy_score \n",
    "from sklearn.metrics import classification_report "
   ]
  },
  {
   "cell_type": "code",
   "execution_count": 101,
   "metadata": {},
   "outputs": [],
   "source": [
    "model = load_model('covid19_vgg16.h5')"
   ]
  },
  {
   "cell_type": "code",
   "execution_count": 102,
   "metadata": {},
   "outputs": [],
   "source": [
    "def classification(res):\n",
    "    ma = max(res)\n",
    "    ind = res.index(ma)\n",
    "    if(ind==0):\n",
    "        prediction = \"NORMAL\"\n",
    "    else:\n",
    "        prediction = \"PNEUMONIA\"\n",
    "    return prediction"
   ]
  },
  {
   "cell_type": "code",
   "execution_count": 103,
   "metadata": {},
   "outputs": [],
   "source": [
    "path = \"TEST/\"\n",
    "images = os.listdir(path)"
   ]
  },
  {
   "cell_type": "code",
   "execution_count": 104,
   "metadata": {},
   "outputs": [
    {
     "name": "stdout",
     "output_type": "stream",
     "text": [
      "N1.jpeg NORMAL\n",
      "N2.jpeg NORMAL\n",
      "N3.jpeg NORMAL\n",
      "N4.jpeg NORMAL\n",
      "N5.jpeg NORMAL\n",
      "N6.jpeg NORMAL\n",
      "N7.jpeg NORMAL\n",
      "N8.jpeg NORMAL\n",
      "P1.jpeg PNEUMONIA\n",
      "P2.jpeg PNEUMONIA\n",
      "P3.jpeg NORMAL\n",
      "P4.jpeg NORMAL\n",
      "P5.jpeg NORMAL\n",
      "P6.jpeg PNEUMONIA\n",
      "P7.jpeg PNEUMONIA\n",
      "P8.jpeg NORMAL\n"
     ]
    }
   ],
   "source": [
    "for img in images:\n",
    "    img_path = os.path.join(path,img)\n",
    "    image = load_img(img_path, target_size=(224, 224))\n",
    "    image = img_to_array(image)\n",
    "    image = np.expand_dims(image, axis=0)\n",
    "    image = preprocess_input(image)\n",
    "    ans = model.predict(image)\n",
    "    ans = ans[0].tolist()\n",
    "    res_array = [int(i) for i in ans]\n",
    "    result = classification(res_array)\n",
    "    print(img,result)\n",
    "    "
   ]
  },
  {
   "cell_type": "code",
   "execution_count": null,
   "metadata": {},
   "outputs": [],
   "source": []
  },
  {
   "cell_type": "code",
   "execution_count": null,
   "metadata": {},
   "outputs": [],
   "source": []
  },
  {
   "cell_type": "code",
   "execution_count": null,
   "metadata": {},
   "outputs": [],
   "source": []
  },
  {
   "cell_type": "code",
   "execution_count": null,
   "metadata": {},
   "outputs": [],
   "source": []
  }
 ],
 "metadata": {
  "kernelspec": {
   "display_name": "Python 3",
   "language": "python",
   "name": "python3"
  },
  "language_info": {
   "codemirror_mode": {
    "name": "ipython",
    "version": 3
   },
   "file_extension": ".py",
   "mimetype": "text/x-python",
   "name": "python",
   "nbconvert_exporter": "python",
   "pygments_lexer": "ipython3",
   "version": "3.7.4"
  }
 },
 "nbformat": 4,
 "nbformat_minor": 2
}
